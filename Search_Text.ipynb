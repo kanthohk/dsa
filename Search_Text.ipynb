{
 "cells": [
  {
   "cell_type": "code",
   "execution_count": 33,
   "metadata": {
    "collapsed": true
   },
   "outputs": [],
   "source": [
    "import re\n",
    "from timeit import default_timer as timer\n",
    "from datetime import timedelta\n",
    "start = timer()"
   ]
  },
  {
   "cell_type": "code",
   "execution_count": 34,
   "metadata": {
    "collapsed": true
   },
   "outputs": [],
   "source": [
    "filename=\"bible_new2.txt\"\n",
    "keyword = \"evening.*\""
   ]
  },
  {
   "cell_type": "code",
   "execution_count": 35,
   "metadata": {
    "collapsed": true
   },
   "outputs": [],
   "source": [
    "textfile = open(filename, 'r')\n",
    "filetext = textfile.read()"
   ]
  },
  {
   "cell_type": "code",
   "execution_count": 36,
   "metadata": {},
   "outputs": [
    {
     "name": "stdout",
     "output_type": "stream",
     "text": [
      "Time taken to open and read file:  0:00:08.103488\n"
     ]
    }
   ],
   "source": [
    "end = timer()\n",
    "print(\"Time taken to open and read file: \", timedelta(seconds=end-start))\n",
    "start = timer()"
   ]
  },
  {
   "cell_type": "code",
   "execution_count": 37,
   "metadata": {},
   "outputs": [
    {
     "name": "stdout",
     "output_type": "stream",
     "text": [
      "Number of line in the file:  1549533\n",
      "Average words per line:  97.86057992956587\n"
     ]
    }
   ],
   "source": [
    "count = 0\n",
    "num_words=0\n",
    "for line in open(filename).readlines(  ): \n",
    "    count += 1\n",
    "    words = line.split()\n",
    "    num_words += len(words)\n",
    "    \n",
    "textfile.close()\n",
    "\n",
    "print(\"Number of line in the file: \", count)\n",
    "print(\"Average words per line: \", num_words/count)"
   ]
  },
  {
   "cell_type": "code",
   "execution_count": 38,
   "metadata": {},
   "outputs": [
    {
     "name": "stdout",
     "output_type": "stream",
     "text": [
      "Time taken to count lines:  0:00:24.811653\n"
     ]
    }
   ],
   "source": [
    "end = timer()\n",
    "print(\"Time taken to count lines: \", timedelta(seconds=end-start))\n",
    "start = timer()"
   ]
  },
  {
   "cell_type": "code",
   "execution_count": 39,
   "metadata": {
    "collapsed": true
   },
   "outputs": [],
   "source": [
    "count=0\n",
    "for line in re.findall(keyword, filetext):\n",
    "    count +=1\n",
    "#    print(line)\n"
   ]
  },
  {
   "cell_type": "code",
   "execution_count": 40,
   "metadata": {},
   "outputs": [
    {
     "name": "stdout",
     "output_type": "stream",
     "text": [
      "Count of Keyword occurrence:  3060\n",
      "Time taken to search keyword:  0:00:01.345681\n"
     ]
    }
   ],
   "source": [
    "end = timer()\n",
    "print(\"Count of Keyword occurrence: \", count)\n",
    "print(\"Time taken to search keyword: \", timedelta(seconds=end-start))"
   ]
  }
 ],
 "metadata": {
  "kernelspec": {
   "display_name": "Python 3",
   "language": "python",
   "name": "python3"
  },
  "language_info": {
   "codemirror_mode": {
    "name": "ipython",
    "version": 3
   },
   "file_extension": ".py",
   "mimetype": "text/x-python",
   "name": "python",
   "nbconvert_exporter": "python",
   "pygments_lexer": "ipython3",
   "version": "3.6.3"
  }
 },
 "nbformat": 4,
 "nbformat_minor": 2
}
