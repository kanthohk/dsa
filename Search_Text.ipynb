{
 "cells": [
  {
   "cell_type": "code",
   "execution_count": 108,
   "metadata": {
    "collapsed": true
   },
   "outputs": [],
   "source": [
    "import re\n",
    "from timeit import default_timer as timer\n",
    "from datetime import timedelta\n",
    "start = timer()"
   ]
  },
  {
   "cell_type": "code",
   "execution_count": 109,
   "metadata": {
    "collapsed": true
   },
   "outputs": [],
   "source": [
    "filename=\"bible_new.txt\"\n",
    "keyword = \"evening.*\""
   ]
  },
  {
   "cell_type": "code",
   "execution_count": 110,
   "metadata": {
    "collapsed": true
   },
   "outputs": [],
   "source": [
    "textfile = open(filename, 'r')\n",
    "filetext = textfile.read()"
   ]
  },
  {
   "cell_type": "code",
   "execution_count": 111,
   "metadata": {},
   "outputs": [
    {
     "name": "stdout",
     "output_type": "stream",
     "text": [
      "Time taken to open and read file:  0:00:01.575250\n"
     ]
    }
   ],
   "source": [
    "end = timer()\n",
    "print(\"Time taken to open and read file: \", timedelta(seconds=end-start))\n",
    "start = timer()"
   ]
  },
  {
   "cell_type": "code",
   "execution_count": 112,
   "metadata": {},
   "outputs": [
    {
     "name": "stdout",
     "output_type": "stream",
     "text": [
      "Number of line in the file:  1549533\n"
     ]
    }
   ],
   "source": [
    "count = 0\n",
    "for line in open(filename).readlines(  ): count += 1\n",
    "    \n",
    "textfile.close()\n",
    "\n",
    "print(\"Number of line in the file: \", count)"
   ]
  },
  {
   "cell_type": "code",
   "execution_count": 113,
   "metadata": {},
   "outputs": [
    {
     "name": "stdout",
     "output_type": "stream",
     "text": [
      "Time taken to count lines:  0:00:02.288981\n"
     ]
    }
   ],
   "source": [
    "end = timer()\n",
    "print(\"Time taken to count lines: \", timedelta(seconds=end-start))\n",
    "start = timer()"
   ]
  },
  {
   "cell_type": "code",
   "execution_count": 114,
   "metadata": {},
   "outputs": [],
   "source": [
    "count=0\n",
    "for line in re.findall(keyword, filetext):\n",
    "    count +=1\n",
    "#    print(line)\n"
   ]
  },
  {
   "cell_type": "code",
   "execution_count": 115,
   "metadata": {},
   "outputs": [
    {
     "name": "stdout",
     "output_type": "stream",
     "text": [
      "Count of Keyword occurrence:  3060\n",
      "Time taken to search keyword:  0:00:00.432998\n"
     ]
    }
   ],
   "source": [
    "end = timer()\n",
    "print(\"Count of Keyword occurrence: \", count)\n",
    "print(\"Time taken to search keyword: \", timedelta(seconds=end-start))"
   ]
  }
 ],
 "metadata": {
  "kernelspec": {
   "display_name": "Python 3",
   "language": "python",
   "name": "python3"
  },
  "language_info": {
   "codemirror_mode": {
    "name": "ipython",
    "version": 3
   },
   "file_extension": ".py",
   "mimetype": "text/x-python",
   "name": "python",
   "nbconvert_exporter": "python",
   "pygments_lexer": "ipython3",
   "version": "3.6.3"
  }
 },
 "nbformat": 4,
 "nbformat_minor": 2
}
